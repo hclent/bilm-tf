{
 "cells": [
  {
   "cell_type": "code",
   "execution_count": 22,
   "metadata": {},
   "outputs": [],
   "source": [
    "from n2c2_tokenizer import build_n2c2_tokenizer #University of Utah code. Credit to Kelly and Jianlin\n",
    "import time, os, sys, multiprocessing, nltk, itertools\n",
    "from collections import Counter\n",
    "from multiprocessing import Pool\n",
    "from sqlalchemy import create_engine, MetaData, Table, select"
   ]
  },
  {
   "cell_type": "code",
   "execution_count": null,
   "metadata": {},
   "outputs": [],
   "source": [
    "'''\n",
    "--> Prepare input data and a vocabulary file.\n",
    "Train the biLM.\n",
    "Test (compute the perplexity of) the biLM on heldout data.\n",
    "Write out the weights from the trained biLM to a hdf5 file.\n",
    "See the instructions above for using the output from Step #4 in downstream models.\n",
    "'''"
   ]
  },
  {
   "cell_type": "code",
   "execution_count": 2,
   "metadata": {},
   "outputs": [
    {
     "name": "stdout",
     "output_type": "stream",
     "text": [
      "Building n2c2 tokenizer...\n",
      "('.', '!')\n",
      "Enabling NLTK Punkt for sentence tokenization...\n",
      "Type of sentence tokenizer : <class 'nltk.tokenize.punkt.PunktSentenceTokenizer'>\n",
      "Enabling custom preprocessing expressions.  Total : 8\n",
      "Class type initialized for ClinicalSentenceTokenizer for sentence tokenization : <class 'nltk.tokenize.punkt.PunktSentenceTokenizer'>\n",
      "Compiled 8 total preprocessing regular expressions\n",
      "Class type initialized for IndexTokenizer for sentence tokenization: <class 'clinical_tokenizers.ClinicalSentenceTokenizer'>\n",
      "[['I', 'am', 'a', 'simple', 'document', '.'], ['here', 'are', 'my', 'sentences', '.'], ['nlp', 'is', 'the', 'best', '.']]\n"
     ]
    }
   ],
   "source": [
    "'''Step 0: Initalize our tokenizer for MIMIC data'''\n",
    "\n",
    "ENABLE_PYRUSH_SENTENCE_TOKENIZER = False\n",
    "\n",
    "n2c2_tokenizer = build_n2c2_tokenizer(enable_pyrush_sentence_tokenizer = ENABLE_PYRUSH_SENTENCE_TOKENIZER,\n",
    "                                     disable_custom_preprocessing = ENABLE_PYRUSH_SENTENCE_TOKENIZER, keep_token_strings=True)\n",
    "\n",
    "tokenized_doc_example = n2c2_tokenizer.tokenize_document(\"I am a simple document. here are my sentences. nlp is the best.\")\n",
    "\n",
    "print(tokenized_doc_example.sentence_tokens_list)"
   ]
  },
  {
   "cell_type": "code",
   "execution_count": 4,
   "metadata": {},
   "outputs": [],
   "source": [
    "'''Step 1: Load the Mimic data. I have my Mimic data in an sqlite database. \n",
    "For how to do this, see: https://github.com/hclent/PyPatent/blob/master/readMimic.py'''\n",
    "\n",
    "def getMimicTexts():\n",
    "    '''\n",
    "    Input: N/A\n",
    "    Output: List[Strings] for all 2 million+ MIMIC texts **lowercase**. \n",
    "    We're going to use this List[Strings] to create the set of vocabulary words that is needed for BiLM.\n",
    "    '''\n",
    "    t1 = time.time() #start timer\n",
    "    \n",
    "    engine = create_engine('sqlite:///mimic.db') #initiated database engine\n",
    "    conn = engine.connect()\n",
    "    metadata = MetaData(bind=engine) #init metadata. will be empty\n",
    "    metadata.reflect(engine) #retrieve db info for metadata (tables, columns, types)\n",
    "    mydata = Table('mydata', metadata)\n",
    "\n",
    "    data: list[string] = []\n",
    "\n",
    "    #Query db for text. Not efficient. You can only execute one statment at a time with sqllite. Soz bro.   \n",
    "    s = select([mydata.c.TEXT]) \n",
    "    print(type(s))\n",
    "    result = conn.execute(s)\n",
    "    print(type(result))\n",
    "    for row in result:\n",
    "        #text\n",
    "        the_text = row[\"TEXT\"]\n",
    "        keep_text = the_text.rstrip()\n",
    "        lower_text = keep_text.lower() #lowercase v important.\n",
    "        # NB: tokenization will happen later. It is too slow to *NOT* run in parallel. \n",
    "        data.append(lower_text)\n",
    "    \n",
    "    print(\" * Finished step0: done in %0.3fs.\" % (time.time() - t1))\n",
    "    #Takes less than 1 minute. \n",
    "    return data"
   ]
  },
  {
   "cell_type": "code",
   "execution_count": 5,
   "metadata": {},
   "outputs": [
    {
     "name": "stdout",
     "output_type": "stream",
     "text": [
      "<class 'sqlalchemy.sql.selectable.Select'>\n",
      "<class 'sqlalchemy.engine.result.ResultProxy'>\n",
      " * Finished step0: done in 48.217s.\n"
     ]
    }
   ],
   "source": [
    "list_of_all_docs = getMimicTexts()"
   ]
  },
  {
   "cell_type": "code",
   "execution_count": 6,
   "metadata": {},
   "outputs": [
    {
     "name": "stdout",
     "output_type": "stream",
     "text": [
      "* list_of_all_docs is a:  <class 'list'>\n",
      "* number docs in list_of_all_docs:  2083180\n",
      "* documents in list_of_all_docs are:  <class 'str'>\n"
     ]
    }
   ],
   "source": [
    "#### Example ##### \n",
    "print(\"* list_of_all_docs is a: \", type(list_of_all_docs))\n",
    "print(\"* number docs in list_of_all_docs: \", len(list_of_all_docs))\n",
    "print(\"* documents in list_of_all_docs are: \", type(list_of_all_docs[0]))\n",
    "# print(\"* Example documents: \", list_of_all_docs[0])"
   ]
  },
  {
   "cell_type": "code",
   "execution_count": 20,
   "metadata": {},
   "outputs": [],
   "source": [
    "#TODO: we also want to output data.txt as a nice string so should probably output that here honestly.\n",
    "'''Step 2: Create a helper function to run with multiprocessing that will tokenize the document, \n",
    "create the set of tokens, and format the sentences for output to data.txt.'''\n",
    "def getSetOfWords(document):\n",
    "    '''\n",
    "    Input: String of the document\n",
    "    Output: Set(Strings) = This will output the set of tokens in the document\n",
    "    TODO: We also should create the nice, pretty strings for data.txt here ...\n",
    "    '''\n",
    "    #tokenize\n",
    "    tokenized = n2c2_tokenizer.tokenize_document(document).sentence_tokens_list #list of lists of tokens\n",
    "    #format sentences for data.txt\n",
    "    pretty_sentences = [' '.join(sentences) for sentences in tokenized]\n",
    "    \n",
    "    #flatten the list of lists into one list of strings \n",
    "    flatten = list(itertools.chain(*tokenized))\n",
    "    \n",
    "    '''\n",
    "    PROBLEM:\n",
    "    IMPORTANT: the vocabulary file should be sorted in descending order by token count in your training data. \n",
    "    The first three lines should be the special tokens (<S>, </S> and <UNK>), \n",
    "    ****then the most common token in the training data, ending with the least common token.****\n",
    "    I didn;t see this before! Now we need to count things goddammit \n",
    "    '''\n",
    "\n",
    "    return_dict = {'tokens': flatten, 'sentences': pretty_sentences}\n",
    "        \n",
    "    return return_dict\n",
    "\n",
    "unique_words_example = getSetOfWords(list_of_all_docs[0])\n",
    "#print(unique_words_example[\"set\"])\n",
    "#print(\"#\"*20)\n",
    "#print(unique_words_example[\"sentences\"])"
   ]
  },
  {
   "cell_type": "code",
   "execution_count": 27,
   "metadata": {},
   "outputs": [
    {
     "name": "stdout",
     "output_type": "stream",
     "text": [
      "* created worker pools\n",
      "* initialized map_async to naiveSearchText function with docs\n",
      "* did map to getSetOfWords function with docs. WITH async\n",
      "* closed pool\n",
      "* joined pool\n",
      "Number of dictionaries created:  10\n",
      "Counter({'.': 939, ',': 630, ':': 444, '?': 420, '[': 368, ']': 368, 'the': 335, '(': 299, ')': 298, 'and': 274, 'of': 265, 'to': 237, 'a': 184, 'was': 173, 'with': 157, 'for': 155, 'in': 146, 'on': 141, 'is': 122, 'mg': 118, 'she': 111, 'tablet': 104, 'patient': 95, 'as': 90, 'at': 83, 'no': 81, 'or': 80, 'sig': 71, '1': 70, 'daily': 68, 'your': 63, 'one': 59, 'po': 58, 'discharge': 57, 'left': 56, 'her': 56, 'history': 54, 'you': 50, '#': 47, 'not': 45, 'blood': 44, 'by': 43, 'are': 43, 'day': 42, '%': 41, 'his': 41, 'pain': 40, '2': 39, '-': 39, 'there': 38, 'be': 37, 'needed': 37, '**': 36, 'name': 35, 'that': 35, 'have': 35, 'days': 34, 'status': 34, 'ct': 33, 'this': 33, 'right': 33, 'has': 31, 'an': 30, '2.': 30, 'but': 29, '1.': 29, 'were': 29, 'he': 29, 'after': 26, '4': 26, 'hours': 26, 'head': 25, '10': 24, 'had': 24, 'any': 24, 'normal': 23, '3.': 23, 'medications': 23, 'if': 23, 's/p': 23, 'every': 23, '**hospital1': 22, 'from': 22, 's': 22, 'likely': 21, 'then': 21, '4.': 21, 'family': 21, 'also': 20, 'chest': 20, 'medical': 20, '**first': 20, 'intact': 20, 'course': 20, '3': 20, '**last': 19, 'admission': 19, 'times': 19, 'hospital': 19, 'w/': 19, \"'s\": 19, 'release': 19, 'take': 19, '5.': 18, 'exam': 18, 'time': 18, 'due': 18, '6': 18, 'capsule': 18, 'medicine': 17, 'care': 17, 'two': 17, 'small': 17, '20': 17, 'prn': 17, 'edema': 17, 'instructions': 17, 'service': 16, 'which': 16, 'physical': 16, 'upper': 16, 'respiratory': 16, 'will': 16, '5': 16, 'medication': 16, 'please': 16, 'may': 16, 'posterior': 16, 'mass': 15, 'past': 15, 'well': 15, 'noted': 15, '40': 15, 'post': 15, 'namepattern1': 14, 'home': 14, 'copd': 14, '100': 14, 'pulmonary': 14, 'frontal': 14, 'without': 14, 'dr': 14, 'over': 14, 'followup': 14, 'it': 14, 'up': 14, 'surgical': 14, 'stable': 14, 'disp': 14, '*': 14, 'refills': 14, 'f': 13, 'present': 13, 'prior': 13, 'been': 13, 'change': 13, 'changes': 13, 'midline': 13, 'aspirin': 13, 'placed': 13, 'seen': 13, 'intubation': 13, '>': 13, ';': 13, 'impression': 13, 'cervical': 13, 'consistent': 12, 'showed': 12, 'can': 12, 'prednisone': 12, 'taper': 12, 'iv': 12, 'mild': 12, 'bilateral': 12, 'q.d': 12, 'allergies': 12, 'social': 12, 'extremities': 12, 'pt': 12, 'placement': 12, 'did': 12, 'infection': 12, 'p.o': 12, 'taking': 12, 'tube': 12, 'delayed': 12, 'e.c': 12, 'resection': 12, 'most': 11, 'pressure': 11, 'air': 11, 'recent': 11, 'steroid': 11, 'within': 11, 'while': 11, 'moderate': 11, 'evidence': 11, '6.': 11, 'lower': 11, 'hiatal': 11, 'hernia': 11, 'increased': 11, 'stitle': 11, 'nasal': 11, 'floor': 11, 'pneumonia': 11, 'follow': 11, 'swallow': 11, 'inhalation': 11, '**telephone/fax': 11, 'procedure': 11, '24': 11, 'bid': 11, 'fracture': 11, 'hemorrhage': 10, 'secondary': 10, '**hospital': 10, 'breath': 10, 'oxygen': 10, 'negative': 10, 'mri': 10, 'major': 10, 'rate': 10, 'heart': 10, '50': 10, 'headache': 10, '**known': 10, 'soft': 10, \"'\": 10, 'hypertension': 10, 'signs': 10, 'solution': 10, 'weakness': 10, 'twice': 10, 'trach': 10, '30': 10, 'results': 10, 'hr': 10, 'would': 10, 'office': 10, 'anterior': 10, 'examination': 10, 'should': 10, 'stomach': 10, 'disease': 10, 'appointment': 10, 'illness': 9, 'who': 9, 'three': 9, 'shortness': 9, 'started': 9, '18**': 9, 'intubated': 9, 'depression': 9, 'use': 9, 'neck': 9, 'lobe': 9, 'brief': 9, 'continued': 9, 'breathing': 9, 'failure': 9, 'bronchoscopy': 9, 'stents': 9, 'x': 9, 'recommended': 9, 'muscle': 9, 'condition': 9, 'discharged': 9, 'such': 9, 'revealed': 9, 'd/c': 9, '&': 9, 'they': 9, 'increasing': 9, 'un': 9, 'fever': 9, 'new': 9, 'swelling': 9, 'diagnosis': 9, 'unremarkable': 9, 'clear': 9, 'constipation': 9, 'call': 9, 'longitudinal': 9, 'craniotomy': 9, 'neurologically': 9, 'brain': 9, 'keppra': 9, 'levetiracetam': 9, 'incision': 9, 'prescribed': 9, 'make': 9, '**2112-12-8**': 9, 'avm': 9, 'old': 8, 'improved': 8, 'does': 8, \"''\": 8, 'hypothyroidism': 8, '60': 8, '500': 8, '7.': 8, '8.': 8, 'lastname': 8, 'wheezing': 8, 'increase': 8, 'mental': 8, 'admitted': 8, 'given': 8, 'weeks': 8, 'foley': 8, 'speech': 8, 'bed': 8, 'name3': 8, 'lf': 8, 'attending': 8, 'chief': 8, 'complaint': 8, 'invasive': 8, 'size': 8, 'cad': 8, 'qd': 8, 'recommend': 8, 'q6h': 8, 'tablets': 8, 'disposition': 8, 'chf': 8, 'pertinent': 8, 'morphine': 8, 'continue': 8, 'stop': 8, 'when': 8, 'very': 8, 'do': 8, 'start': 8, '**location': 8, 'ligament': 8, 'bone': 8, 'contrast': 8, 'meningioma': 8, 'need': 8, 'check': 8, '*0*': 8, 'shower': 8, 'seizures': 8, 'radionecrosis': 8, 'pleural': 7, 'date': 7, 'last': 7, 'presents': 7, 'than': 7, 'room': 7, 'cpap': 7, 'nebulizer': 7, 'treatment': 7, 'following': 7, 'chronic': 7, 'lesion': 7, 'injury': 7, 'approximately': 7, 'years': 7, 'mcg': 7, 'albuterol': 7, '9.': 7, 'husband': 7, 'regular': 7, 'per': 7, 'once': 7, 'felt': 7, 'extubation': 7, 'found': 7, 'evaluation': 7, 'stent': 7, 'acetaminophen': 7, '1-2': 7, 'pantoprazole': 7, 'yo': 7, '**5-13**': 7, 'rehab': 7, 'surgery': 7, 'icu': 7, 'developed': 7, '8': 7, 'post-op': 7, 'sodium': 7, 'cxr': 7, 'bilaterally': 7, 'ck': 7, 'cpk': 7, 'body': 7, 'qhs': 7, 'return': 7, 'stool': 7, 'amount': 7, 'focus': 7, 'docusate': 7, 'sutures': 7, 'wound': 7, 'post-operative': 7, '06:26pm': 7, '**2118-12-7**': 7, 'studies': 6, 'effusion': 6, 'these': 6, 'outpatient': 6, 'name4': 6, 'number': 6, 'birth': 6, 'sex': 6, '**doctor': 6, 'doctor': 6, 'greater': 6, 'able': 6, 'known': 6, 'cva': 6, 'white': 6, 'both': 6, 'vascular': 6, 'angina': 6, 'four': 6, '75': 6, '10.': 6, '81': 6, 'full': 6, 'code': 6, 'equal': 6, 'hematoma': 6, 'unit': 6, 'difficulty': 6, 'performed': 6, 'airways': 6, 'main': 6, '**name': 6, 'extubated': 6, 'steroids': 6, '**2118-6-14**': 6, 'again': 6, 'out': 6, 'control': 6, 'leukocytosis': 6, 'bedtime': 6, 'tracheal': 6, 'ml': 6, 'severe': 6, 'about': 6, 'sputum': 6, 'large': 6, 'clinical': 6, 'hypoxia': 6, 'since': 6, 'free': 6, 'cough': 6, 'site': 6, 'changed': 6, 'redness': 6, 'removed': 6, 'thin': 6, 'extended': 6, 'artery': 6, 'h/o': 6, 'acute': 6, 'limited': 6, '**2124-7-21**': 6, 'plt': 6, 'cardiac': 6, 'further': 6, 'mr': 6, 'fall': 6, 'scan': 6, 'c6-c7': 6, 'ossification': 6, 'tumor': 6, 'unchanged': 6, 'focal': 6, 'findings': 6, 'aspiration': 6, 'only': 6, '*2*': 6, 'narcotic': 6, 'cause': 6, 'advil': 6, 'ibuprofen': 6, 'work': 6, 'sure': 6, 'immediately': 6, 'residual': 6, 'mouth': 6, 'lung': 5, 'repeat': 5, 't': 5, 'female': 5, 'required': 5, 'levofloxacin': 5, 'presented': 5, 'emergency': 5, '**hospital3': 5, 'vomiting': 5, 'predicted': 5, 'improve': 5, 'however': 5, 'shift': 5, 'sphenoid': 5, 'sinus': 5, 'could': 5, 'represent': 5, 'ekg': 5, 'symptoms': 5, 'walking': 5, 'lexapro': 5, 'motor': 5, '25': 5, 'b.i.d': 5, 'throughout': 5, 'bowel': 5, 'stem': 5, 'much': 5, 'maintained': 5, 'all': 5, 'received': 5, 'therapy': 5, 'impaired': 5, 'chair': 5, 'trazodone': 5, 'completed': 5, 'week': 5, 'underwent': 5, 'distal': 5, 'lad': 5, 'htn': 5, 'several': 5, '+': 5, 'weaning': 5, 'range': 5, 'good': 5, 'low': 5, 'sulfate': 5, '325': 5, 'confusion': 5, 'ed': 5, 'report': 5, 'became': 5, 'bp': 5, 'abdomen': 5, 'tenderness': 5, 'ctropnt-0.01': 5, 'systolic': 5, 'spine': 5, 'pcp': 5, 'gi': 5, 'clearance': 5, 'ng': 5, '2.5': 5, 'colace': 5, 'alert': 5, 'into': 5, 'clinic': 5, 'their': 5, '1829**': 5, 'c6-7': 5, 'facial': 5, 'fluid': 5, 'oral': 5, 'made': 5, 'neurosurgery': 5, 'onset': 5, '*60': 5, 'before': 5, 'motrin': 5, 'drainage': 5, '**2112-12-9**': 5, 'interstitial': 5, 'cleared': 5, '2mg': 5, 'cranioplasty': 5, '03:13pm': 5, 'infarction': 4, 'imaging': 4, 'o2': 4, 'primary': 4, '90': 4, 'better': 4, 'weaned': 4, 'off': 4, 'x2': 4, 'nausea': 4, 'some': 4, 'demonstrated': 4, 'defect': 4, 'lacunar': 4, '``': 4, 'matter': 4, 'other': 4, 'synthroid': 4, 'hydrochlorothiazide': 4, 'imdur': 4, 'lives': 4, 'neurologist': 4, 'saturating': 4, 'reactive': 4, 'light': 4, 'cranial': 4, 'supple': 4, 'sounds': 4, 'clubbing': 4, 'laboratory': 4, 'atelectasis': 4, 'initially': 4, '**2118-6-9**': 4, 'general': 4, 'transferred': 4, 'mi': 4, 'intermittent': 4, 'induced': 4, 'worked': 4, 'during': 4, 'additional': 4, 'heparin': 4, '11.': 4, '12.': 4, '13.': 4, '**4-8**': 4, '14.': 4, 'puffs': 4, 'ipratropium': 4, 'bromide': 4, 'subcutaneous': 4, '16.': 4, 'around': 4, 'tracheostomy': 4, 'tissue': 4, 'improvement': 4, 'sided': 4, 'currently': 4, \"'d\": 4, 'rca': 4, 'ef': 4, 'although': 4, 'married': 4, 'nurse': 4, 'intermittently': 4, 'mae': 4, 'l': 4, 'r': 4, '82': 4, 'tracheoplasty': 4, 'done': 4, 'line': 4, 'eval': 4, 'anxiety': 4, '**date': 4, 'management': 4, 'bronch': 4, 'sent': 4, 'overnight': 4, 'sob': 4, 'controlled': 4, 'ultrasound': 4, 'place': 4, 'egd': 4, 'see': 4, '18': 4, 'spray': 4, 'tid': 4, 'facility': 4, 'ni': 4, 'dyspnea': 4, 'dose': 4, '96': 4, 'x1': 4, 'so': 4, 'ns': 4, 'transfer': 4, 'heent': 4, 'labs': 4, '10:55am': 4, '**2124-7-22**': 4, 'inr': 4, 'k-3.5': 4, 'symmetric': 4, 'valve': 4, 'represents': 4, 'and/or': 4, '**2124-8-16**': 4, '05:40am': 4, 'later': 4, 'decided': 4, 'attacks': 4, 'bleeding': 4, 'remained': 4, 'above': 4, 'along': 4, 'furosemide': 4, 'metoprolol': 4, 'senna': 4, 'ward': 4, 'here': 4, 'wife': 4, '**2162-3-3**': 4, 'pancreatic': 4, 'c-spine': 4, 'tiny': 4, 'vein': 4, 'cm': 4, 'interval': 4, 'appearance': 4, 'hypoattenuating': 4, 'bolus': 4, 'tongue': 4, 'structures': 4, 'coumadin': 4, 'q4h': 4, 'tolerating': 4, 'him': 4, 'nasopharyngeal': 4, 'seizure': 4, 'neurological': 4, 'post-operatively': 4, 'dissolvable': 4, 'counter': 4, 'dexamethasone': 4, 'member': 4, 'exercise': 4, 'lifting': 4, 'straining': 4, 'excessive': 4, 'bending': 4, 'cap': 4, 'intake': 4, 'fluids': 4, 'fiber': 4, 'unless': 4, 'directed': 4, 'anti-inflammatory': 4, 'medicines': 4, 'etc': 4, 'being': 4, 'drive': 4, 'addressed': 4, 'visit': 4, 'surgeon': 4, 'experience': 4, 'tremors': 4, 'numbness': 4, 'tingling': 4, 'continually': 4, 'relieved': 4, '101': 4, 'pe': 4, '**10-17**': 4, 'nc': 4, 'congestion': 4, 'upon': 4, '**2-25**': 4, 'mm': 4, 'vasogenic': 4, '*30': 4, 'panic': 4, '**2118-8-10**': 4, 'malformation': 4, 'lesions': 3, 'followed': 3, 'thought': 3, 'flare': 3, 'nebulizers': 3, 'despite': 3, 'fevers': 3, 'gastrointestinal': 3, 'complaints': 3, 'positive': 3, 'function': 3, 'fvc': 3, 'fev1': 3, 'flow': 3, 'underlying': 3, 'multiple': 3, 'region': 3, 'predominantly': 3, 'enlarged': 3, 'portion': 3, 'denies': 3, 'ago': 3, 'protonix': 3, 'pediatric': 3, 'axillary': 3, 'dry': 3, 'mucous': 3, 'machine': 3, 'venous': 3, 'phase': 3, 'fields': 3, 'cyanosis': 3, '**5-9**': 3, 'initial': 3, 'x-ray': 3, 'aggressive': 3, 'intensive': 3, 'fact': 3, 'persistent': 3, 'ventilation': 3, 'marked': 3, 'expiration': 3, 'tracheomalacia': 3, '12': 3, 'mask': 3, 'down': 3, 'liters': 3, 'looked': 3, 'rehabilitation': 3, 'six': 3, 'diltiazem': 3, 'regimen': 3, 'catheter': 3, 'discontinued': 3, 'scale': 3, 'tapered': 3, 'still': 3, 'appear': 3, 'clinically': 3, 'treated': 3, 'performance': 3, 'myopathy': 3, 'prolonged': 3, 'dysphagia': 3, 'airway': 3, 'levothyroxine': 3, 'fluticasone': 3, 'inhaled': 3, 'q.2h': 3, 'zolpidem': 3, '15.': 3, 'concern': 3, '1407**': 3, '**5-5**': 3, '**5-19**': 3, 'failed': 3, 'year': 3, 'woman': 3, 'exacerbation': 3, 'wall': 3, 'collapse': 3, 'possible': 3, '**2119-4-19**': 3, '63': 3, 'rib': 3, 'requiring': 3, 'tracheobronchomalacia': 3, 'children': 3, 'died': 3, 'rrr': 3, 'm': 3, 'area': 3, 'd/t': 3, 're-intubation': 3, 'dvt': 3, 'pod': 3, 'secretions': 3, 'sedation': 3, 'below': 3, 'op': 3, 'initiated': 3, 'episodes': 3, 'oob': 3, 'total': 3, '**5-22**': 3, 'vancomycin': 3, '**5-15**': 3, 'rue': 3, 'picc': 3, 'bedside': 3, 'diet': 3, 'liquids': 3, 'video': 3, 'lipitor': 3, 'prilosec': 3, 'melatonin': 3, '0.02': 3, 'disk': 3, 'device': 3, 'mcg/actuation': 3, 'aerosol': 3, 'q24h': 3, 'coronary': 3, '87': 3, 'baseline': 3, 'called': 3, 'tachypnic': 3, '5l': 3, 'brought': 3, 'physician': 3, 'nrb': 3, 'consolidation': 3, 'ivx1': 3, 'vs': 3, 'titles': 3, 'vitals': 3, 'p': 3, 'discomfort': 3, 'lungs': 3, 'cv': 3, 'ext': 3, '03:50am': 3, 'creat-0.8': 3, 'mb': 3, 'ventricular': 3, 'aortic': 3, 'leaflets': 3, 'mildly': 3, 'thickened': 3, 'mitral': 3, 'fat': 3, 'slightly': 3, 'opacity': 3, 'degenerative': 3, 'trop': 3, 'eventually': 3, 'tachypnea': 3, 'note': 3, 'team': 3, 'palliative': 3, 'ultimately': 3, '**2124-8-3**': 3, 'more': 3, 'consulted': 3, 'goals': 3, 'involved': 3, 'comfort': 3, 'omeprazole': 3, 'xl': 3, 'folic': 3, 'acid': 3, 'diovan': 3, 'neb': 3, 'nebulization': 3, '0.5': 3, 'level': 3, 'consciousness': 3, 'interactive': 3, 'activity': 3, 'assistance': 3, 'phone': 3, 'md': 3, '/': 3, 'feet': 3, 'arthrodesis': 3, 'c4-t1': 3, 'ambulatory': 3, 'non': 3, 'abd': 3, 'touch': 3, 'decreased': 3, 'lucency': 3, 'c1': 3, 'ring': 3, 'pelvis': 3, 'renal': 3, 'cysts': 3, 'fractures': 3, 'scalp': 3, 'cerebellar': 3, 'encephalomalacia': 3, 'terminating': 3, 'loculated': 3, 'ventricles': 3, 'joint': 3, 'effusions': 3, 'associated': 3, 'visualized': 3, 'representing': 3, 'diameter': 3, 'puree': 3, 'ap': 3, 'pathology': 3, 'procedures': 3, 'tolerated': 3, 'urinary': 3, 'olanzapine': 3, 'spondylosis': 3, 'calcification': 3, 'dislocation': 3, 'drug': 3, 'rheumatoid': 3, 'arthritis': 3, 'cavernous': 3, 'glass': 3, 'electively': 3, 'decadron': 3, 'neuro': 3, 'friend/family': 3, 'using': 3, 'cover': 3, 'we': 3, 'generally': 3, 'softener': 3, 'require': 3, '7': 3, 'perrl': 3, 'commands': 3, '**2112-12-10**': 3, 'na': 3, 'pacemaker': 3, 'face': 3, 'cortical': 3, 'pneumocephalus': 3, 'q8hr': 3, '1mg': 3, 'wash': 3, 'hair': 3, 'radiosurgery': 3, 'radiation': 3, 'necrosis': 3, 'venlafaxine': 3, 'doses': 3, 'substitution': 3, 'radiologic': 2, 'infectious': 2, 'intracranial': 2, 'effect': 2, 'abdominal': 2, 'name8': 2, 'namepattern2': 2, '**md': 2, 'dictated': 2, 'medquist36': 2, 'd': 2, '**2151-8-5**': 2, 'job': 2, '**job': 2, 'micu': 2, 'order': 2, 'saturation': 2, '125': 2, 'review': 2, 'chills': 2, 'night': 2, 'sweats': 2, 'neurologic': 2, 'rashes': 2, 'palpitations': 2, 'orthopnea': 2, 'related': 2, '54': 2, '23': 2, 'bronchodilator': 2, 'significantly': 2, 'obstruction': 2, 'restrictive': 2, 'never': 2, 'episode': 2, 'demonstrates': 2, 'foci': 2, 't2': 2, 'cerebral': 2, 'abnormalities': 2, 'nonspecific': 2, 'etiology': 2, 'maxillary': 2, 'minimal': 2, 'thickening': 2, 'type': 2, 'going': 2, 'minutes': 2, 'study': 2, 'ischemia': 2, 'nitroglycerin': 2, 'vehicle': 2, 'accident': 2, 'leads': 2, 'smoker': 2, 'smoked': 2, 'respirations': 2, '97': 2, 'temperature': 2, 'elderly': 2, 'apparent': 2, 'distress': 2, 'pupils': 2, 'extraocular': 2, 'movements': 2, 'oropharynx': 2, 'assess': 2, 'grossly': 2, 'tachycardic': 2, 'obese': 2, 'masses': 2, 'strength': 2, 'count': 2, 'hematocrit': 2, 'troponin': 2, 'cks': 2, 'gas': 2, 'segmental': 2, 'rhythm': 2, 'oxygenation': 2, 'labored': 2, '**2118-6-7**': 2, 'narrowing': 2, 'silicone': 2, 'trachea': 2, 'cannula': 2, '92': 2, 'interventional': 2, 'agreed': 2, 'ruled': 2, 'hematuria': 2, 'hyperglycemia': 2, 'quite': 2, 'back': 2, 'profound': 2, 'question': 2, '**2118-6-4**': 2, 'seven': 2, 'prophylaxis': 2, 'subq': 2, 'sore': 2, 'throat': 2, 'cepacol': 2, 'lozenges': 2, 'containing': 2, 'lidocaine': 2, 'evaluated': 2, 'help': 2, 'knee': 2, 'ankle': 2, 'combination': 2, 'atrophy': 2, 'deconditioning': 2, 'vocal': 2, 'cord': 2, 'citalopram': 2, 'tartrate': 2, 'q.h.s': 2, 'isosorbide': 2, 'get': 2, '17.': 2, '18.': 2, '1408**': 2, 'bronchial': 2, '11:30': 2, 'amlodipine': 2, 'tbm': 2, 'tracheobronchoplasty': 2, 'perc': 2, '**5-17**': 2, 'trachealplasty': 2, 'cuffless': 2, 'five': 2, 'progressive': 2, 'subsequently': 2, 'lateral': 2, 'significant': 2, 'peripheral': 2, 'central': 2, 'complete': 2, 'coughing': 2, 'nodules': 2, 'recently': 2, 'discussion': 2, 'regarding': 2, 'describes': 2, 'clock': 2, '**6-7**': 2, 'atypical': 2, 'ped': 2, 'struck': 2, 'fx': 2, 'admit': 2, 'psychologist': 2, 'fhx': 2, 'father': 2, 'age': 2, '59': 2, 'nad': 2, 'neuro-': 2, 'sclera': 2, 'anicteric': 2, 'g': 2, 'resp': 2, 'plugging': 2, 'used': 2, 'pca': 2, '**5-12**': 2, 'trial': 2, 'efforts': 2, 'presently': 2, '**5-16**': 2, 'cooperative': 2, 'portex-': 2, '1815**': 2, 'productive': 2, 'assist': 2, '**2119-5-8**': 2, 'mrsa': 2, 'cont': 2, 'b': 2, 'lasix': 2, 'monitored': 2, '**5-23**': 2, 'access-': 2, '**2119-5-15**': 2, 'brachial': 2, 'unable': 2, 'esophagus': 2, '**2119-5-25**': 2, 'portex': 2, 'allow': 2, 'oropharyngeal': 2, 'movement': 2, 'passed': 2, 'solids': 2, 'chin': 2, 'possibly': 2, 'advair': 2, '250/50': 2, '0.083': 2, 'fluticasone-salmeterol': 2, '250-50': 2, 'mcg/dose': 2, 'puff': 2, 'qid': 2, 'sprays': 2, 'appl': 2, 'topical': 2, 'syringe': 2, 'hcl': 2, '1.5': 2, 'escitalopram': 2, 'center': 2, 'lethargy': 2, 'morning': 2, 'worsening': 2, 'ems': 2, 'according': 2, 'dysuria': 2, 'diarrhea': 2, 'reveal': 2, '14': 2, 'nebs': 2, 'solumedrol': 2, '80': 2, 'hypoxic': 2, 'switched': 2, '2l': 2, '450': 2, 'peep': 2, '**6-6**': 2, '**2119**': 2, 'cath': 2, 'remote': 2, 'sedated': 2, 'mmm': 2, 'crackles': 2, 's1': 2, 's2': 2, 'non-tender': 2, 'warm': 2, 'pulses': 2, 'baso-0.2': 2, 'na-140': 2, 'hco3-36*': 2, 'ck-mb-15*': 2, 'otherwise': 2, 'cavity': 2, 'suggests': 2, 'pcwp': 2, '18mmhg': 2, 'stenosis': 2, 'regurgitation': 2, '1+': 2, 'space': 2, 'compared': 2, 'allowing': 2, 'larger': 2, '<': 2, 'cl-101': 2, 'calcium-8.9': 2, 'hypercarbic': 2, 'gram': 2, 'stain': 2, 'managed': 2, 'q8h': 2, 'antibiotics': 2, 'stopped': 2, '**7-26**': 2, '50s': 2, 'discussions': 2, \"patient's\": 2, '**name10': 2, 'nameis': 2, 'want': 2, 'experienced': 2, 'ulcers': 2, 'series': 2, 'hospitalization': 2, 'held': 2, 'nutrition': 2, 'direct': 2, 'dnr/dni': 2, 'deemed': 2, 'toprol': 2, 'duoneb': 2, 'succinate': 2, 'sustained': 2, 'multivitamin': 2, 'valsartan': 2, '160': 2, '/3': 2, '8.6': 2, 'humalog': 2, 'insulin': 2, 'sliding': 2, 'confused': 2, 'department': 2, 'breathe': 2, 'address': 2, '463**': 2, 'pm': 2, 'building': 2, 'ra': 2, 'having': 2, 'height': 2, 'unstable': 2, 'elements': 2, 'fusion': 2, 'c5-c6-c7': 2, 'instrumentation': 2, 'laminectomy': 2, 't1': 2, 'c': 2, 'agitation': 2, 'trauma': 2, 'reports': 2, 'obtained': 2, '61': 2, 'consult': 2, 'gen': 2, 'awake': 2, 'lying': 2, 'irregular': 2, 'm/r/g': 2, 'cta': 2, 'bs': 2, '====================': 2, '==================': 2, 'c6': 2, 'described': 2, 'involving': 2, 'pedicle': 2, 'extending': 2, 'facet': 2, 'widening': 2, 'spinal': 2, 'hemithorax': 2, 'unclear': 2, 'cystic': 2, 'emergent': 2, 'correlation': 2, 'correlate': 2, 'refer': 2, 'lead': 2, 'fissure': 2, '**2162-3-11**': 2, 'intraventricular': 2, 'occipital': 2, 'horns': 2, 'projecting': 2, 'calcific': 2, 'extremity': 2, 'suspicious': 2, '**2162-3-14**': 2, 'cardiomegaly': 2, 'liver': 2, 'too': 2, 'accurately': 2, 'characterize': 2, 'partially': 2, 'exophytic': 2, '5-mm': 2, 'ascites': 2, 'loops': 2, 'rectus': 2, 'tracking': 2, 'distance': 2, 'prostate': 2, 'measuring': 2, 'rectum': 2, 'dried': 2, 'hip': 2, 'joints': 2, 'wet': 2, 'barium': 2, 'transit': 2, 'residue': 2, 'pharyngeal': 2, 'elevation': 2, 'impairment': 2, 'absent': 2, 'sinuses': 2, 'same': 2, 'identified': 2, 'osseous': 2, 'skin': 2, 'staples': 2, 'cmo': 2, 'retention': 2, 'bisacodyl': 2, 'rapid': 2, 'dissolve': 2, 'sust': 2, 'adverse': 2, 'reactions': 2, '1835**': 2, 'firstname': 2, '62-year-old': 2, 'longstanding': 2, 'probable': 2, 'sweet': 2, 'complications': 2, 'including': 2, 'hydroxychloroquine': 2, 'methotrexate': 2, 'dermatosis': 2, 'middle': 2, 'fossa': 2, 'imbalance': 2, 'problem': 2, 'sharp': 2, 'replacement': 2, 'retired': 2, 'cancer': 2, 'hearing': 2, 'karnofsky': 2, 'score': 2, '100.': 2, '**3-5**': 2, 'visual': 2, '**6-28**': 2, 'scheduled': 2, '**3-10**': 2, 'famotidine': 2, '200': 2, 'tabs': 2, 'coherent': 2, 'independent': 2, 'anti-seizure': 2, 'drawing': 2, '87**': 2, 'monitoring': 2, 'protect': 2, 'pepcid': 2, 'irritation': 2, 'meals': 2, 'milk': 2, 'incentive': 2, 'spirometer': 2, 'practitioner': 2, '1669**': 2, 'live': 2, 'pna': 2, 'infiltrates': 2, 'zosyn': 2, 'tylenol': 2, 'nausea/vomiting': 2, 'rash': 2, 'fluoxetine': 2, 'daughters': 2, 'either': 2, 'rdw-14.4': 2, 'na-138': 2, '04:11pm': 2, 'mediastinal': 2, 'diffusely': 2, 'long': 2, 'ca': 2, 'expired': 2, 'daughter': 2, '**2142-6-22**': 2, 'output': 2, 'first': 2, 'driving': 2, 'reveals': 2, 'oriented': 2, 'fluent': 2, 'comprehension': 2, 'nystagmus': 2, 'sensation': 2, 'c/d/i': 2, 'expected': 2, '**2-26**': 2, '**2-28**': 2, 'now': 2, 'taken': 2, '**3-1**': 2, '250': 2, '341**': 2, '**2073-12-25**': 2, 'codeine': 2, '1854**': 2, 'radio': 2, 'resid': 2, 'causing': 2, 'dysrhythmia': 2, 'palps': 2, '02:09pm': 2, 'anion': 2, 'gap-13': 2, 'arteriovenous': 2, '352**': 2, 'fibrinoid': 2, 'hemosiderin': 2, 'deposition': 2, 'suggesting': 2, 'hemorrhages': 2, 'enhancing': 2, 'previous': 2, 'extensive': 2, 'ambulating': 2, '**2118-8-12**': 2, 'hydromorphone': 2, 'removal': 2, 'skull': 2, '44': 2, 'aox3': 2, '**5-31**': 2, '1l': 2, '**2118-12-9**': 2, 'suspension': 2, 'otc': 2, 'addendum': 1, 'included': 1, 'confirmed': 1, 'cavitary': 1, 'apex': 1, 'process/tuberculosis': 1, 'moderate-sized': 1, 't10': 1, 'sacrum': 1, 'osteoporosis': 1, '1775**': 1, 'm.d': 1, '1776**': 1, '1807**': 1, '12:11': 1, '12:21': 1, '1808**': 1, '81-year-old': 1, 'emphysema': 1, 'maintain': 1, 'getting': 1, 'solu-medrol': 1, 'systems': 1, 'weight': 1, 'occasionally': 1, 'exertion': 1, 'positionally': 1, 'tests': 1, '**2117-11-3**': 1, '52': 1, 'mmf': 1, 'ratio': 1, '67': 1, 'reversible': 1, 'addition': 1, 'ventilatory': 1, '**2114-11-4**': 1, 'degree': 1, 'high': 1, 'signal': 1, 'hemispheres': 1, 'pons': 1, 'latter': 1, 'microvascular': 1, 'strictures': 1, 'hydrocephalus': 1, 'patterns': 1, 'preserved': 1, 'ethmoid': 1, 'mucosal': 1, 'allergic': 1, 'inflammatory': 1, 'process': 1, 'additionally': 1, 'moderately': 1, 'subtotally': 1, 'empty': 1, 'sella': 1, 'turcica': 1, 'stress': 1, 'test': 1, '**2118-1-3**': 1, 'product': 1, '10,000': 1, '64': 1, 'maximum': 1, 'ischemic': 1, 'myocardial': 1, 'calculated': 1, 'ejection': 1, 'fraction': 1, '84': 1, 'rest': 1, 'gets': 1, 'few': 1, 'blocks': 1, 'alleviated': 1, 'sublingual': 1, 'pulmicort': 1, 'q.4': 1, 'norvasc': 1, 'lightheadedness': 1, 'noncontributory': 1, '1809**': 1, 'eminent': 1, '1810**': 1, 'alcohol': 1, '142/76': 1, '17-21': 1, 'membranes': 1, 'round': 1, 'accommodation': 1, 'difficult': 1, 'jugular': 1, 'strap': 1, 'obscures': 1, 'nerves': 1, 'ii': 1, 'through': 1, 'xii': 1, 'lymphadenopathy': 1, 'obscured': 1, 'loud': 1, 'expiratory': 1, 'profuse': 1, 'scattered': 1, 'rhonchi': 1, 'nontender': 1, 'nondistended': 1, 'hand': 1, 'assessed': 1, 'cognition': 1, '19': 1, '41': 1, 'platelets': 1, '300.': 1, 'chem-7': 1, '127': 1, '3.6': 1, '88': 1, '29': 1, '17': 1, '0.6': 1, '143.': 1, 'ph': 1, '7.4': 1, 'po2': 1, '66': 1, 'pco2': 1, 'sized': 1, 'infiltrate': 1, 'versus': 1, 'shows': 1, '113': 1, 'beats': 1, 'minute': 1, 'axis': 1, 'st-t': 1, 'wave': 1, 'summary': 1, 'copd/dyspnea/pneumonia': 1, 'treatments': 1, 'q.4h': 1, 'q.1h': 1, 'ability': 1, 'suction': 1, '16': 1, 'under': 1, 'rigid': 1, 'anesthesia': 1, '**2118-6-11**': 1, 'cool': 1, 'mist': 1, 'shovel': 1, 'titrated': 1, 'pulmonology': 1, 'go': 1, 'cardiovascular': 1, 'another': 1, 'x3': 1, 'adequate': 1, 'normalization': 1, 'electrolytes': 1, 'serial': 1, 'urinalyses': 1, 'insulin-sliding': 1, 'glucose': 1, 'came': 1, 'levels': 1, '22': 1, 'cell': 1, '15,000.': 1, '**2118-6-10**': 1, 'restarted': 1, '**2118-6-12**': 1, 'rales': 1, 'therapist': 1, 'blunted': 1, 'affect': 1, 'depressed': 1, 'proton-pump': 1, 'inhibitor': 1, 'kbl': 1, 'liquid': 1, 'kaopectate': 1, 'bismuth': 1, 'communication/code': 1, 'communication': 1, 'functional': 1, 'mobility': 1, 'musculoskeletal': 1, 'exchange': 1, 'endurance': 1, 'supine': 1, 'sit': 1, 'tolerate': 1, 'sitting': 1, 'hour': 1, 'flexors': 1, 'extensors': 1, 'elbows': 1, 'hips': 1, 'speech/swallow': 1, 'showing': 1, 'damage': 1, 'oxygenate': 1, '93': 1, 'profoundly': 1, 'weak': 1, 'longer': 1, 'albeit': 1, 'transmitted': 1, '110': 1, 'salmeterol': 1, 'diskus': 1, '325-650': 1, 'q.4-6h': 1, 'mdi': 1, 'dinitrate': 1, 't.i.d': 1, 'q.i.d': 1, 'q.24h': 1, '5000': 1, 'units': 1, 'until': 1, '**2118-6-21**': 1, 'kaopectate/benadryl/lidocaine': 1, 'mealtimes': 1, 'lorazepam': 1, '0.5-2': 1, 'q.6h': 1, 'follow-up': 1, 'plans': 1, 'leaving': 1, 'steroid-induced': 1, 'final': 1, 'diagnoses': 1, '12-207': 1, '1811**': 1, '11:33': 1, '1812**': 1, 'cardiothoracic': 1, '1561**': 1, '3/31,4/2,3': 1, '**6-12**': 1, 'percutaneous': 1, '**5-25**': 1, 'difficulties': 1, 'hypoxemia': 1, 'eventual': 1, '**2118-8-1**': 1, 'granulation': 1, 'malacia': 1, 'forced': 1, 'cords': 1, 'noticed': 1, '951**': 1, '952**': 1, 'tracheobronchial': 1, 'plasty': 1, 'mesh': 1, 'anticipation': 1, 'terms': 1, 'many': 1, 'occurring': 1, 'notices': 1, 'states': 1, 'seems': 1, 'resolve': 1, 'dependent': 1, 'wears': 1, '1.5-2': 1, 'frequent': 1, 'brings': 1, 'dark': 1, '^chol': 1, 'pmh': 1, 'stenting': 1, 'records': 1, 'ccc': 1, 'mva': 1, 'hysterectomy': 1, 'h+p': 1, 'general-lovely': 1, 'yr': 1, 'feamle': 1, 'anxious': 1, 'perrla': 1, 'eye': 1, 'ptosis': 1, 'symetrical': 1, 'smile': 1, 'gossly': 1, 'heent-perrla': 1, 'pharynx-': 1, 'exud': 1, 'erythema': 1, 'resp-clear': 1, 'diffuse': 1, 'ronchi': 1, 'intermit': 1, 'exp': 1, 'wheezes': 1, 'cor-': 1, 'abd-': 1, 'nt': 1, 'nd': 1, 'slight': 1, 'protrusion': 1, 'ext-': 1, 'y/o': 1, '**2119-5-4**': 1, 'consideration': 1, '**5-4**': 1, 'confirming': 1, 'complicated': 1, 'resulting': 1, 'extrem': 1, 'mid': 1, 'pain-': 1, 'epidural': 1, 'accidently': 1, 'briefly': 1, 'dilaudid': 1, 'fair': 1, 'propofol': 1, \"d/c'd\": 1, 'ett-': 1, '-weaning': 1, 'c/o': 1, 'intact-': 1, 'aggitation': 1, 'inhibiting': 1, 'psych': 1, '**5-18**': 1, '-started': 1, 'zyprexa': 1, 'ativan': 1, 'a+ox3-': 1, 'lovely': 1, 'resp-': 1, 're-intub': 1, '**5-7**': 1, 'poor': 1, 'simv/ps': 1, 'alt': 1, 'w/cmv': 1, 'x4-5d': 1, 'attempts': 1, '1813**': 1, 'secretion': 1, 'swollen': 1, 'epiglottis': 1, '**5-10**': 1, 'leak': 1, 'ett': 1, 'cuff': 1, 'deflated': 1, 'eval/trach': 1, 'min': 1, 'cuffed': 1, 'preserve': 1, 'cpap15/peep5': 1, 'ongoing': 1, '1814**': 1, 'progressing': 1, '**2033-5-20**': 1, '-trach': 1, 'hemodynamic': 1, 'instability': 1, 'capped': 1, 'x48hrs': 1, '2lnp': 1, '-tid': 1, '4-6hr': 1, 'ambulation': 1, '~100-120': 1, 'ft': 1, 'id-': 1, 'graft': 1, 'spike': 1, 'bal': 1, 'vanco': 1, '**4-7**': 1, 'grade': 1, 'cultured-': 1, 'wbc': 1, '20.8': 1, 'cardiac-hypertension': 1, 'hydralazine': 1, '65-75': 1, 'nsr': 1, 'avoiding': 1, 'blockers': 1, '20mg': 1, 'gtt': 1, 'therapeutic': 1, 'lovenox': 1, 'sq': 1, 'coags': 1, '48.2/13.8/1.2': 1, '**2119-5-9**': 1, 'clotted': 1, 'via': 1, 'placed-': 1, 'tpn': 1, 'resumed': 1, 'gi-large': 1, 'hernia-': 1, 'enteral': 1, 'feeding': 1, 'underfluoro': 1, 're-attempt': 1, 'doboff': 1, 'dislodged': 1, '12hours': 1, 'nutrition-': 1, 'ppn/tpn': 1, 'rec': 1, 'form': 1, 'epiglotis': 1, 'swallowing': 1, 're-eval': 1, 'liquids-': 1, 'tuck': 1, 'give': 1, 'meds': 1, 'whole': 1, 'apple': 1, 'sauce': 1, '**8-17**': 1, 'eliminate': 1, 'tuck-': 1, 'page': 1, 'referral': 1, 'endo-': 1, 'hypothyroid': 1, 'levoxyl': 1, 'muscu/skel-': 1, '4-6hours/day': 1, 'consulting': 1, 'atrovent': 1, 'mucinex': 1, '600': 1, 'detrol': 1, 'la': 1, 'ambien': 1, 'trazadone': 1, 'q4-6h': 1, 'chloride': 1, '0.65': 1, '**2-5**': 1, 'camphor-menthol': 1, '0.5-0.5': 1, 'lotion': 1, 'enoxaparin': 1, 'mg/0.6ml': 1, 'q12h': 1, 'hs': 1, 'oxalate': 1, 'nystatin': 1, '100,000': 1, 'unit/g': 1, 'cream': 1, 'tolterodine': 1, 'lock': 1, 'flush': 1, 'porcine': 1, 'unit/ml': 1, 'intravenous': 1, '7**': 1, '8**': 1, 'disease/atypical': 1, 'hypercholesterolemia': 1, 'colision-': 1, 'tbm-': 1, 'update': 1, '1816**': 1, '170**': 1, 'questions': 1, 'concerns': 1, '898**': 1, 'exacerbation/shortness': 1, 'arterial': 1, 'esophagogastroduodenoscopy': 1, 'tripoding': 1, 'er': 1, 'experiencing': 1, 'flares': 1, 'apparently': 1, 'pnd': 1, 'gave': 1, 'levaquin': 1, 'lactate': 1, '2.2.': 1, 'combivent': 1, 'azithromycin': 1, '750': 1, 'cefrtiaxone': 1, '1g': 1, 'tachpnic': 1, 'trialed': 1, 'non-invasive': 1, 'hypotensive': 1, 'systolics': 1, 'noninvasive': 1, 'agitated': 1, '40s': 1, 'abg': 1, '7.3/60/88/31': 1, 'propafol': 1, 'fentanyl/midazolam': 1, 'hypotension': 1, '80s': 1, '102': 1, '87/33': 1, 'access': 1, 'appeared': 1, 'comfortable': 1, 'sytems': 1, '**2120**': 1, 'dyslipidemia': 1, '1817**': 1, '1818**': 1, 'pack': 1, 'quit': 1, 'ethanol': 1, 'user': 1, 'ivdu': 1, 'marijuana': 1, '116/46': 1, 'tv': 1, 'jvp': 1, 'elevated': 1, 'bases': 1, 'murmurs': 1, 'rubs': 1, 'gallops': 1, 'non-distended': 1, 'rebound': 1, 'guarding': 1, 'organomegaly': 1, 'gu': 1, 'perfused': 1, '2+': 1, 'wbc-14.1*': 1, 'rbc-4.20': 1, 'hgb-12.6': 1, 'hct-39.1': 1, 'mcv-93': 1, 'mch-30.1': 1, 'mchc-32.3': 1, 'rdw-12.6': 1, 'ct-319': 1, 'neuts-93.9*': 1, 'lymphs-4.4*': 1, 'monos-1.3*': 1, 'eos-0.2': 1, 'pt-11.0': 1, 'ptt-28.7': 1, '-0.9': 1, 'glucose-168*': 1, 'urean-13': 1, 'cl-92*': 1, 'angap-16': 1, 'calcium-8.8': 1, 'phos-3.4': 1, 'mg-2.1': 1, 'biomarkers': 1, '-321*': 1, 'ctropnt-0.02*': 1, '06:25pm': 1, '-345*': 1, 'ck-mb-14*': 1, 'indx-4.1': 1, '-845*': 1, 'indx-1.8': 1, '12:04pm': 1, '-1030*': 1, 'indx-1.5': 1, '**2124-7-23**': 1, '03:15am': 1, '-530*': 1, 'ck-mb-9': 1, 'probnp-2535*': 1, 'echo': 1, '**2124-7-24**': 1, 'hypertrophy': 1, 'regional/global': 1, 'lvef': 1, '55': 1, 'estimated': 1, 'index': 1, '=2.5l/min/m2': 1, 'doppler': 1, 'filling': 1, 'chamber': 1, 'contractility': 1, 'prolapse': 1, 'tricuspid': 1, 'prominent': 1, 'pad': 1, 'biventricular': 1, '**2124-8-5**': 1, 'kyphotic': 1, 'positioning': 1, 'earlier': 1, 'technical': 1, 'differences': 1, 'right-sided': 1, 'detected': 1, 'retrocardiac': 1, 'current': 1, 'doubt': 1, 'thoracic': 1, 'enzymes': 1, '**2124-8-12**': 1, '0.01': 1, '**2124-8-13**': 1, '0.03': 1, '**2124-8-14**': 1, 'wbc-9.5': 1, 'rbc-3.08*': 1, 'hgb-9.6*': 1, 'hct-28.3*': 1, 'mcv-92': 1, 'mch-31.2': 1, 'mchc-33.9': 1, 'rdw-13.5': 1, 'ct-360': 1, 'pt-10.4': 1, 'ptt-22.8': 1, '-0.8*': 1, '**2124-8-17**': 1, '05:30am': 1, 'glucose-114*': 1, 'urean-18': 1, 'na-142': 1, 'angap-9': 1, 'phos-2.8': 1, 'mg-2.3': 1, 'tsh-0.87': 1, 'like': 1, 'exacerbations': 1, 'supports': 1, 'entirely': 1, 'demand': 1, 'romi': 1, 'respitatory': 1, 'viral': 1, 'culture': 1, 'grew': 1, 'parainfluenze': 1, '**7-24**': 1, '**7-25**': 1, 'beta-agonists': 1, 'anticholinergics': 1, 'tte': 1, 'lvh': 1, 'rv': 1, 'collapsible': 1, 'vent': 1, 'become': 1, 'interimittenty': 1, 'hypertensive': 1, 'sbp': 1, '200s': 1, 'extubatied': 1, '**7-27**': 1, 'passing': 1, 'sbt': 1, '0/5': 1, 'lack': 1, 'gag': 1, 'reflex': 1, '**8-1**': 1, 'growing': 1, 'samples': 1, 'represented': 1, 'colonization': 1, 'opposed': 1, 'true': 1, 'between': 1, 'pursued': 1, 'successful': 1, 'progressively': 1, '2lnc': 1, '@': 1, 'because': 1, 'exams': 1, 'revealing': 1, 'volume': 1, 'overload': 1, 'diuresed': 1, 'result': 1, 'receiving': 1, 'typically': 1, 'begun': 1, '**7-22**': 1, 'coffee': 1, 'grounds': 1, 'og': 1, 'lavage': 1, 'approx': 1, '600ccs': 1, 'perfomred': 1, 'esophagitis': 1, 'd2': 1, 'diverticulum': 1, 'h': 1, 'pylori': 1, 'ppi': 1, 'plan': 1, 'abnormal': 1, 'anatomy': 1, 'generalized': 1, 'end': 1, 'neurology': 1, 'bedbound': 1, 'tsh': 1, 'checked': 1, 'statin': 1, 'beta': 1, 'blocker': 1, 'pass': 1, 'visualization': 1, 'ir': 1, 'guided': 1, 'pyloric': 1, 'tfs': 1, 'pulled': 1, 'moved': 1, '1:1': 1, 'supervision': 1, 'namepattern4': 1, 'reintubated': 1, 'worsen': 1, 'focused': 1, 'remain': 1, 'dnr': 1, 'deteriorated': 1, 'overall': 1, 'suitable': 1, 'timem': 1, 'resuscitate': 1, 'okay': 1, 'intubate': 1, 'centrum': 1, '75-100': 1, '1819**': 1, 'atorvastatin': 1, 'insomnia': 1, '4-6': 1, 'mg-3': 1, 'base': 1, '12.5': 1, 'mg/5': 1, 'hold': 1, 'oversedation': 1, 'rr': 1, '19.': 1, '20.': 1, '21.': 1, '22.': 1, 'attached': 1, '1820**': 1, '1821**': 1, 'obstructive': 1, 'bleed/peptic': 1, 'ulcer': 1, 'sometimes': 1, 'wheelchair': 1, 'fast': 1, 'inserted': 1, 'own': 1, 'inside': 1, 'bleed': 1, 'endoscopic': 1, 'look': 1, 'inflammation': 1, 'esophagusand': 1, 'instructed': 1, 'alleviate': 1, '240': 1, 'decrease': 1, 'indicated': 1, '**8-29**': 1, '1pm': 1, '1822**': 1, '**apartment': 1, '1823**': 1, '**numeric': 1, 'identifier': 1, '1700**': 1, '174**': 1, '**8-30**': 1, '3pm': 1, '1824**': 1, '453**': 1, 'div': 1, 'gastroenterology': 1, 'wednesday': 1, '**2124-8-30**': 1, '3:00': 1, '1386**': 1, '1825**': 1, '1826**': 1, '1827**': 1, 'complex': 1, 'campus': 1, 'east': 1, 'best': 1, 'parking': 1, 'garage': 1, '**2080-1-4**': 1, 'recorded': 1, 'drugs': 1, '1828**': 1, 'mechanical': 1, 'osteotomy': 1, 'decompression': 1, 'excision': 1, 'deformity': 1, 'correction': 1, 'interbody': 1, 'reconstruction': 1, 'plate': 1, 'augmentation': 1, 'autograft': 1, 'allograft': 1, 'demineralized': 1, 'matrix': 1, 'male': 1, 'slip': 1, 'balcony': 1, 'scene': 1, 'cabg': 1, 'aicd': 1, 'atrial': 1, 'fibrillation': 1, 'stroke': 1, 'sad': 1, 'attempted': 1, 'kill': 1, 'himself': 1, 'wrapping': 1, 'telephone': 1, 'chemist': 1, '**country': 1, '532**': 1, 'contributory': 1, 'phycial': 1, 'tsicu': 1, '97.5': 1, '145/67': 1, 'rr22': 1, 'sao2': 1, '98': 1, 'a-fib': 1, 'anterior/posterior': 1, 'incisions': 1, '1830**': 1, 'edemitous': 1, 'move': 1, 'neurointact': 1, 'weakly': 1, 'tm/c': 1, '98.9': 1, '142/70': 1, 'i/o': 1, 'bm': 1, 'yesterday': 1, '220/770': 1, 'calm': 1, 'pleasant': 1, 'c-collar': 1, 'anteriolry': 1, 'ntnd': 1, 'trace': 1, 'b/l': 1, 'le': 1, 'ue': 1, 'neuro/cognition': 1, '**3-17**': 1, 'wbc-8.4': 1, 'rbc-4.43*': 1, 'hgb-11.9*': 1, 'hct-38.6*': 1, 'mcv-87': 1, 'mch-26.9*': 1, 'mchc-30.9*': 1, 'rdw-17.3*': 1, 'ct-191': 1, 'pt-20.4*': 1, 'ptt-28.1': 1, '-1.9*': 1, '-183*': 1, 'amylase-70': 1, 'calcium-8.5': 1, 'phos-2.0*': 1, 'mg-1.9': 1, 'glucose-121*': 1, 'lactate-2.3*': 1, 'k-4.3': 1, 'calhco3-26': 1, 'radiology': 1, 'inferior': 1, 'lamina': 1, 'disc': 1, 'prevertebral': 1, 'rupture': 1, 'avulsion': 1, 'ligaments': 1, 'compromise': 1, 'canal': 1, 'abdomen/pelvis': 1, 'injuries': 1, 'discrete': 1, 'collections': 1, 'pseudotumors': 1, 'hypodense': 1, 'pseudicyst': 1, 'non-': 1, 'basis': 1, 'balloon': 1, 'inflated': 1, 'prostatic': 1, 'urethra': 1, 'repositioning': 1, 'sinus/maxillofacial': 1, 'preseptal': 1, 'foreign': 1, 'globe': 1, 'extraconal': 1, 'superior': 1, 'aspect': 1, 'orbit': 1, 'linear': 1, 'c-': 1, 'concurrently': 1, 'hemprrhage': 1, 'dedeicated': 1, 'detail': 1, '**2162-3-10**': 1, 'dobbhoff': 1, 'passes': 1, 'diaphragm': 1, 'its': 1, 'tip': 1, 'pacemakers': 1, 'atrium': 1, 'ventricle': 1, 'layers': 1, 'followp': 1, 'dedicated': 1, 'maxillofacial': 1, 'shoulder': 1, 'glenohumeral': 1, 'acromioclavicular': 1, 'osteoarthritis': 1, 'margin': 1, 'scapular': 1, 'adjacent': 1, 'lesser': 1, 'tuberosity': 1, 'diagnostic': 1, 'considerations': 1, 'include': 1, 'sequela': 1, 'bursitis': 1, 'intraarticular': 1, 'bodies': 1, 'tendinitis': 1, 'subscapularis': 1, 'tendon': 1, 'minor': 1, 'delineated': 1, 'radiographs': 1, '**2162-3-13**': 1, 'deep': 1, 'thrombosis': 1, 'proximally': 1, 'subclavian': 1, 'distally': 1, 'involve': 1, 'veins': 1, 'basilic': 1, 'cephalic': 1, '2.0': 1, 'lymph': 1, 'node': 1, 'unusual': 1, 'son': 1, '493**': 1, 'features': 1, 'somewhat': 1, 'malignancy': 1, 'fna/biopsy': 1, 'considered': 1, 'small-to-moderate': 1, 'compressive': 1, 'pericardial': 1, '9-mm': 1, 'well-defined': 1, '2:12': 1, 'statistically': 1, 'cyst': 1, 'spleen': 1, 'gallbladder': 1, 'adrenal': 1, 'glands': 1, 'terminates': 1, 'pneumatosis': 1, 'material': 1, 'ascending': 1, 'colon': 1, 'pocket': 1, 'pelvic': 1, 'collapsed': 1, 'bladder': 1, 'seminal': 1, 'vesicles': 1, '5.9': 1, 'transverse': 1, 'contains': 1, 'windows': 1, 'lytic': 1, 'sclerotic': 1, 'dish': 1, 'entire': 1, 'thoracolumbar': 1, 'acetabular': 1, 'osteophytes': 1, 'extraperitoneal': 1, '2:53': 1, 'stranding': 1, 'collection': 1, 'iatrogenic': 1, 's.q': 1, 'injections': 1, 'excluded': 1, 'read': 1, 'discussed': 1, '1831**': 1, '1832**': 1, '1833**': 1, 'p.m': 1, '**2162-3-16**': 1, 'real-time': 1, 'fluoroscopic': 1, 'administration': 1, 'consistency': 1, 'conjunction': 1, 'pathologist': 1, 'formation': 1, 'initiation': 1, 'velar': 1, 'mild-to-moderate': 1, 'laryngeal': 1, 'epiglottic': 1, 'deflection': 1, 'moderate-to-severe': 1, 'valleculae': 1, 'piriform': 1, 'propulsion': 1, 'information': 1, \"therapist's\": 1, '**2162-3-18**': 1, 'w/out': 1, 'layering': 1, 'though': 1, 'dense': 1, 'evolution': 1, 'cisterns': 1, 'sulci': 1, 'involutional': 1, 'periventricular': 1, 'hyperdensities': 1, 'sequelae': 1, 'vessel': 1, 'hemisphere': 1, 'paranasal': 1, 'mastoid': 1, 'cells': 1, 'superior-': 1, 'approximatly': 1, 'scans': 1, 'shown': 1, '1834**': 1, 'stabilized': 1, '**2162-3-4**': 1, 'decompression/fusion': 1, '**2162-3-5**': 1, 'complication': 1, 'transfered': 1, 'persistently': 1, 'aspirating': 1, 'interested': 1, 'peg': 1, 'clot': 1, 'decision': 1, 'proceed': 1, 'measures': 1, 'straight': 1, 'cathing': 1, 'symptom': 1, 'hospice': 1, 'symptomatic': 1, 'relief': 1, 'seroquel': 1, 'folate': 1, 'lovastatin': 1, 'captopril': 1, 'asa': 1, 'ipratroium': 1, 'inhaler': 1, 'ferrous': 1, 'meprazole': 1, 'suppository': 1, '**12-30**': 1, 'suppositorys': 1, 'rectal': 1, 'mg/3': 1, 'concentrate': 1, 'mg/ml': 1, '5-10': 1, 'shorten': 1, 'tamsulosin': 1, '0.4': 1, 'pills': 1, 'refusing': 1, '599**': 1, '55**': 1, 'outside': 1, 'request': 1, 'agitiation': 1, 'documented': 1, 'wish': 1, 'eat': 1, 'drink': 1, 'desired': 1, '**2109-10-8**': 1, '622**': 1, '1836**': 1, 'syndrome': 1, 'orthopedic': 1, 'interventions': 1, 'hve': 1, 'biopsy': 1, 'hte': 1, '1837**': 1, 'cytometry': 1, 't-cell': 1, 'lymphoid': 1, 'hyperplasia': 1, 'abatacept': 1, 'erythematous': 1, 'shins': 1, 'holocranial': 1, 'intensity': 1, '**9-28**': 1, 'resolved': 1, 'autoimmune': 1, '**2171-11-4**': 1, 'cam': 1, 'btc': 1, 'extends': 1, '756**': 1, '**2171-11-29**': 1, 'went': 1, 'consultation': 1, 'systemic': 1, '**9-/2171**': 1, 'pressure-like': 1, 'sensations': 1, 'temporal': 1, 'pattern': 1, 'occur': 1, 'often': 1, 'evening': 1, 'fullness': 1, 'ear': 1, 'cold': 1, 'coinciding': 1, 'late': 1, '**month': 1, '359**': 1, 'early': 1, '**2171-10-21**': 1, 'temple': 1, 'blurry': 1, 'vision': 1, 'gadolinium-enhanced': 1, '346**': 1, '**2171-10-30**': 1, 'bright': 1, 'unspecified': 1, 'subtalar': 1, 'benign': 1, 'parotid': 1, 'gland': 1, 'half': 1, 'younger': 1, 'smoking': 1, 'wine': 1, 'employed': 1, 'teacher': 1, 'diabetes': 1, 'loss': 1, 'af': 1, 'vss': 1, 'lnn': 1, 'nttp': 1, 'peripherals': 1, '**2172-2-11**': 1, 'previously': 1, '**2168-2-11**': 1, 'inspection': 1, 'helpful': 1, 'assessment': 1, 'operating': 1, 'trasnported': 1, 'observed': 1, 'prelim': 1, 'path': 1, 'come': 1, 'restart': 1, 'maintenance': 1, 'prophlyaxis': 1, 'deficits': 1, 'laxatives': 1, 'bactrim': 1, 'fosamax': 1, 'lorezapam': 1, 'mvi': 1, 'orencia': 1, 'plaquenil': 1, '20qd': 1, 'complete-': 1, '**3-9**': 1, '*20': 1, 'must': 1, 'keep': 1, 'dilantin': 1, 'phenytoin': 1, 'drawn': 1, 'faxed': 1, 'calling': 1, 'our': 1, 'arrangements': 1, 'sulfonamides': 1, '1850**': 1, 'none': 1, 'abx': 1, '**12-6**': 1, 'deveoped': 1, 'b/t': 1, 'levoflox': 1, 'ceftriaxone': 1, '**12-5**': 1, 'febrile': 1, '102.7': 1, '109': 1, '135/56': 1, '34': 1, '3l': 1, 'vanc': 1, 'broader': 1, 'coverage': 1, 'complains': 1, 'uri': 1, 'sx': 1, 'ending': 1, '**12-3**': 1, 'speculated': 1, '**2109**': 1, '--': 1, 'month': 1, 'alone': 1, 'grown': 1, 'living': 1, 'nearby': 1, 'actively': 1, 'disagreeing': 1, 'what': 1, 'mothers': 1, 'hcps': 1, \"n't\": 1, 'know': 1, 'siblings': 1, 'health': 1, 'alive': 1, 'healthy': 1, 'problems': 1, '99': 1, '101/78': 1, 'talking': 1, 'phrases': 1, 'eomi': 1, 'mid-lung': 1, 'anteriorly': 1, 'nl': 1, 's1/s2': 1, 'nd/nt': 1, 'guaiac': 1, 'c/c/e': 1, 'o': 1, 'wbc-9.6': 1, 'rbc-3.33*': 1, 'hgb-8.9*': 1, 'hct-27.0*': 1, 'mcv-81*': 1, 'mch-26.7*': 1, 'mchc-32.9': 1, 'ct-291': 1, '12:17am': 1, 'hct-27.1*': 1, 'neuts-81.0*': 1, 'lymphs-14.9*': 1, 'monos-2.0': 1, 'eos-1.9': 1, 'pt-21.7*': 1, 'ptt-45.7*': 1, '-3.4': 1, '04:11am': 1, 'ct-273': 1, 'glucose-104': 1, 'urean-36*': 1, 'creat-1.4*': 1, 'k-4.8': 1, 'cl-104': 1, 'hco3-18*': 1, 'angap-21*': 1, 'glucose-103': 1, 'urean-22*': 1, 'creat-1.1': 1, 'cl-107': 1, 'hco3-17*': 1, 'angap-18': 1, '-56': 1, 'ck-mb-notdone': 1, 'phos-3.2': 1, 'mg-1.7': 1, 'calcium-7.9*': 1, 'phos-3.6': 1, 'mg-2.2': 1, '06:32pm': 1, 'lactate-3.8*': 1, '01:08am': 1, 'lactate-1.1': 1, '01:16am': 1, 'portable': 1, 'radiograph': 1, 'contours': 1, 'limits': 1, 'definite': 1, 'zones': 1, 'pneumothorax': 1, 'opacities': 1, 'superimposed': 1, '**11-19**': 1, '**12-8**': 1, 'abnormality': 1, 'accompanied': 1, 'simulate': 1, 'hiatus': 1, 'closely': 1, 'disagreement': 1, 'original': 1, 'standing': 1, 'decline': 1, 'point': 1, 'refused': 1, 'notified': 1, 'mother': 1, 'wishes': 1, 'fulfilled': 1, 'converted': 1, 'drip': 1, 'hd': 1, 'rabbi': 1, '2:20': 1, 'autopsy': 1, 'offered': 1, 'declined': 1, '1000': 1, 'q6': 1, 'alprazolam': 1, '0.25mg': 1, 'carb': 1, '30mg': 1, '40mg': 1, 'lisinopril': 1, '10mg': 1, 'meclizine': 1, '12.5mg': 1, 'warfarin': 1, 'dosed': 1, '1176**': 1, '**name8': 1, '1177**': 1, '1851**': 1, '**2086-12-19**': 1, '1852**': 1, 'left-handed': 1, 'man': 1, 'i': 1, 'saw': 1, '**2149-11-17**': 1, 'growth': 1, 'today': 1, 'incontinence': 1, 'began': 1, 'disoriented': 1, 'hotel': 1, 'bathroom': 1, 'visiting': 1, 'wedding': 1, 'slumped': 1, 'bath': 1, 'eyes': 1, 'funny': 1, 'stand': 1, 'verbal': 1, 'sense': 1, '1853**': 1, 'placentia': 1, 'woke': 1, 'tired': 1, 'event': 1, 'hospitalized': 1, '**2142-6-25**': 1, 'bradycardia': 1, 'less': 1, 'arrhythmia': 1, 'prostatectomy': 1, 'works': 1, 'parttime': 1, 'school': 1, 'bus': 1, '97.8': 1, 'f.': 1, '150/92': 1, 'pulse': 1, '80.': 1, 'respiration': 1, 'turgor': 1, 'rhythms': 1, 'show': 1, 'language': 1, 'recall': 1, 'nerve': 1, 'confrontation': 1, 'funduscopic': 1, 'disks': 1, 'margins': 1, 'palate': 1, 'goes': 1, 'sternocleidomastoids': 1, 'trapezius': 1, 'strong': 1, 'drift': 1, 'strengths': 1, 'groups': 1, 'tone': 1, 'reflexes': 1, '0': 1, 'jerks': 1, 'toes': 1, 'sensory': 1, 'proprioception': 1, 'coordination': 1, 'dysmetria': 1, 'gait': 1, 'tandem': 1, 'romberg': 1, '362**': 1, '**11/2149**': 1, 'bony': 1, 'bifrontal': 1, 'progressed': 1, 'earliest': 1, '**2142**': 1, 'overlying': 1, 'lobes': 1, 'volumes': 1, 'rather': 1, 'overt': 1, 'areas': 1, 'pectoral': 1, 'situ': 1, 'correct': 1, '/c': 1, 'with/without': 1, 'similar': 1, 'surrounding': 1, 'subarachnoid': 1, 'tumor/': 1, 'shortly': 1, 'thereafter': 1, 'fit': 1, 'stepdown': 1, 'happen': 1, 'shortage': 1, 'ordered': 1, '**2-27**': 1, 'prepped': 1, '130-170': 1, 'electrophysiology': 1, '100mg': 1, 'qday': 1, 'kept': 1, 'monitor': 1, 'hemodynamically': 1, 'therefore': 1, 'zocor': 1, 'oxycodone': 1, '101.4': 1, 'simvastatin': 1, '3mg': 1, 'q12hr': 1, '*qs': 1, 'instructions/information': 1, 'located': 1, '516**': 1, '23**': 1, '1844**': 1, 'next': 1, 'hear': 1, 'directions': 1, 'rate/blood': 1, 'house': 1, 'cardiology': 1, 'recommendations': 1, '**2150-3-1**': 1, 'elective': 1, 'easily': 1, 'eoms': 1, 'clean': 1, 'glucose-161*': 1, 'urea': 1, 'n-10': 1, 'sodium-142': 1, 'potassium-3.9': 1, 'chloride-105': 1, 'co2-28': 1, 'wbc-12.2*': 1, 'rbc-4.03*': 1, 'hgb-11.5*': 1, 'hct-34.5*': 1, 'mcv-86': 1, 'mch-28.4': 1, 'mchc-33.2': 1, 'rdw-13.3': 1, '**8-10**': 1, 'left-sided': 1, 'confluent': 1, 'hypodensity': 1, 'frontoparietal': 1, 'post-radiation': 1, 'resultant': 1, '8.5-mm': 1, 'normally-midline': 1, 'hyperdensity': 1, 'postoperative': 1, 'field': 1, 'expost-operative': 1, '-like': 1, 'hyperdense': 1, 'operative': 1, 'persists': 1, 'observation': 1, '**8-11**': 1, 'well-controlled': 1, 'food': 1, '**8-12**': 1, 'effexor': 1, '25oomg': 1, '*50': 1, '**8-13**': 1, '**8-14**': 1, '*12': 1, 'prescription': 1, 'craniotomy/head': 1, 'narcotics': 1, 'fax': 1, 'schedule': 1, 'cat': 1, 'supplementary': 1, 'stereotactic': 1, 'gamma': 1, 'knife': 1, '**2114**': 1, '**2116**': 1, 'disorder': 1, '**2118-5-27**': 1, 'headaches': 1, 'digital': 1, 'angiogram': 1, 'pathological': 1, 'vessels': 1, 'massive': 1, 'diagnosed-': 1, '**2118-8-27**': 1, 'washout': 1, 'craniectomy': 1, 'returns': 1, 'antibiotic': 1, 'nephrolithiasis': 1, '20yrs': 1, 'tb': 1, 'child': 1, 'non-contributory': 1, 'symm': 1, 'eom': 1, 'w/o': 1, 'follows': 1, 'pronator': 1, 'pos': 1, 'normally': 1, '*******************': 1, 'wbc-13.8*': 1, 'rbc-4.76': 1, 'hgb-12.8': 1, 'hct-37.6': 1, 'mcv-79*': 1, 'mch-27.0': 1, 'mchc-34.2': 1, 'count-555*': 1, 'calcium-9.2': 1, 'phosphate-3.4': 1, 'magnesium-2.3': 1, 'estgfr-using': 1, 'glucose-128*': 1, 'creat-0.9': 1, 'sodium-141': 1, 'potassium-4.1': 1, 'chloride-102': 1, 'co2-30': 1, 'pacu': 1, 'voided': 1, '4l': 1, 'urine': 1, 'thus': 1, 'flonase': 1, 'provider': 1, 'each': 1, 'nostril': 1, '1,000': 1, 'oseltamivir': 1, 'tamiflu': 1, 'dosage': 1, 'uncertain': 1, 'migraine': 1, 'pain/t': 1, '100/ha': 1, 'q6hrs': 1, '1855**': 1, 'q12': 1, '1856**': 1, 'q24': 1, '**12-14**': 1, '*16': 1, 'suture': 1})\n",
      " * Created mimic_data.txt & mimic_vocab.txt: done in 0.172s.\n"
     ]
    }
   ],
   "source": [
    "'''Step 3: Run the helper function asynchronously with multiprocessing to create the vocab.txt and data.txt \n",
    "that is necessary to run BiLM.\n",
    "'''\n",
    "def createVocabFile():\n",
    "    '''\n",
    "    Input: String = Point it at the text file that contains all of the mimic files!\n",
    "    '''\n",
    "    t1 = time.time() #start the timer\n",
    "    \n",
    "    pool_size = multiprocessing.cpu_count() #NOTE: Usin' all yer CPU's my friend. Change this if you want.\n",
    "    pool = Pool(pool_size)\n",
    "    print('* created worker pools')\n",
    "    results0 = pool.map_async(getSetOfWords, list_of_all_docs[0:10])  #TODO: this will be the whole set, not a subset\n",
    "    print('* initialized map_async to naiveSearchText function with docs')\n",
    "    print('* did map to getSetOfWords function with docs. WITH async')\n",
    "    pool.close()\n",
    "    print('* closed pool')\n",
    "    pool.join()\n",
    "    print('* joined pool')\n",
    "    list_of_dicts = [r for r in results0.get() if r is not None] # A BUNCH OF SETS\n",
    "    print(\"Number of dictionaries created: \", len(list_of_dicts))\n",
    "\n",
    "    \"\"\"Step A: create data.txt: Should have 1 sentence per line\"\"\"\n",
    "    #get all doc's sentences\n",
    "    document_sentences = [s[\"sentences\"]  for s in list_of_dicts]\n",
    "    #flatten to one big list of sentences\n",
    "    flatten_sents: list[string] = list(itertools.chain(*document_sentences))\n",
    "    #output to data_vocab.txt\n",
    "    with open(\"mimic_data.txt\", \"w\") as out:\n",
    "        for sent in flatten_sents:\n",
    "            out.write(sent)\n",
    "            out.write(\"\\n\")\n",
    "    \n",
    "    \"\"\"Step B: create vocab.txt: Should have 1 token per line, as well as AllenNLP special tokens.\"\"\"\n",
    "    all_tokens = [d[\"tokens\"] for d in list_of_dicts]\n",
    "    all_flatten = list(itertools.chain(*all_tokens))\n",
    "    output_counter = Counter(all_flatten)\n",
    "    print(output_counter)\n",
    "    \n",
    "    #we also need to add these AllenNLP specific things\n",
    "    allen_specific = ['<S>','</S>','<UNK>'] #these need to go at the top \n",
    "\n",
    "    #now output to vocab.txt\n",
    "    with open(\"mimic_vocab.txt\", \"w\") as out:\n",
    "        for special in allen_specific:\n",
    "            out.write(special)\n",
    "            out.write(\"\\n\")\n",
    "        for token, count in output_counter.most_common():\n",
    "            out.write(token)\n",
    "            out.write(\"\\n\")\n",
    "    \n",
    "    \n",
    "    print(\" * Created mimic_data.txt & mimic_vocab.txt: done in %0.3fs.\" % (time.time() - t1))\n",
    "\n",
    "\n",
    "createVocabFile()"
   ]
  },
  {
   "cell_type": "code",
   "execution_count": null,
   "metadata": {},
   "outputs": [],
   "source": [
    "# 10 docs in 0.176s.\n",
    "# 100 docs in 0.737s\n",
    "# 1,000 docs in \n",
    "# 10,000 docs in "
   ]
  },
  {
   "cell_type": "code",
   "execution_count": null,
   "metadata": {},
   "outputs": [],
   "source": [
    "'''\n",
    "Prepare input data and a vocabulary file.\n",
    "--> Train the biLM.\n",
    "Test (compute the perplexity of) the biLM on heldout data.\n",
    "Write out the weights from the trained biLM to a hdf5 file.\n",
    "See the instructions above for using the output from Step #4 in downstream models.\n",
    "'''"
   ]
  },
  {
   "cell_type": "code",
   "execution_count": null,
   "metadata": {},
   "outputs": [],
   "source": []
  }
 ],
 "metadata": {
  "kernelspec": {
   "display_name": "Python 3",
   "language": "python",
   "name": "python3"
  },
  "language_info": {
   "codemirror_mode": {
    "name": "ipython",
    "version": 3
   },
   "file_extension": ".py",
   "mimetype": "text/x-python",
   "name": "python",
   "nbconvert_exporter": "python",
   "pygments_lexer": "ipython3",
   "version": "3.6.6"
  }
 },
 "nbformat": 4,
 "nbformat_minor": 2
}
